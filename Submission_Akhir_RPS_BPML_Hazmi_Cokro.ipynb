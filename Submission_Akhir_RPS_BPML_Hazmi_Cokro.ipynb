{
  "nbformat": 4,
  "nbformat_minor": 0,
  "metadata": {
    "colab": {
      "name": "Submission Akhir RPS - BPML - Hazmi Cokro.ipynb",
      "provenance": [],
      "collapsed_sections": []
    },
    "kernelspec": {
      "name": "python3",
      "display_name": "Python 3"
    }
  },
  "cells": [
    {
      "cell_type": "markdown",
      "metadata": {
        "id": "D7cM-SjSDjjV"
      },
      "source": [
        "\n",
        "Mochammad Hazmi Cokro Mandiri\n",
        "> Dataset Rock Paper Scissors\n",
        "\n"
      ]
    },
    {
      "cell_type": "markdown",
      "metadata": {
        "id": "0ORXk9vMG_ro"
      },
      "source": [
        "**Library**"
      ]
    },
    {
      "cell_type": "code",
      "metadata": {
        "id": "zF9WdvSCbzAI"
      },
      "source": [
        "# Library u/ ekstrak dan atur lokasi \n",
        "import zipfile\n",
        "import os\n",
        "import glob \n",
        "import warnings\n",
        "\n",
        "\n",
        "# Library u/ machine learning Tensorflow\n",
        "from tensorflow.keras.preprocessing.image import ImageDataGenerator\n",
        "from tensorflow.keras.models import Sequential\n",
        "from tensorflow.keras.layers import Conv2D, MaxPooling2D, Activation, Dense, Flatten\n",
        "from tensorflow.keras.layers import Dropout\n",
        "from tensorflow.keras.optimizers import Adam\n",
        "import tensorflow as tf\n",
        "\n",
        "# Library u/  upload file gcolabs dan plot\n",
        "from keras.preprocessing import image\n",
        "from google.colab import files\n",
        "import numpy as np\n",
        "import matplotlib.pyplot as plt\n",
        "import matplotlib.image as mpimg\n",
        "%matplotlib inline"
      ],
      "execution_count": null,
      "outputs": []
    },
    {
      "cell_type": "markdown",
      "metadata": {
        "id": "O3RWUIAHG9Fa"
      },
      "source": [
        "**Download Dataset Rock Paper Scissors**"
      ]
    },
    {
      "cell_type": "code",
      "metadata": {
        "id": "E9i0Jmz-G7-3",
        "colab": {
          "base_uri": "https://localhost:8080/"
        },
        "outputId": "323ab58d-24e4-4801-be0b-f58ea3f45dc3"
      },
      "source": [
        "# Download dataset menggunakan wget\n",
        "!wget https://dicodingacademy.blob.core.windows.net/picodiploma/ml_pemula_academy/rockpaperscissors.zip"
      ],
      "execution_count": null,
      "outputs": [
        {
          "output_type": "stream",
          "text": [
            "--2020-10-07 16:20:02--  https://dicodingacademy.blob.core.windows.net/picodiploma/ml_pemula_academy/rockpaperscissors.zip\n",
            "Resolving dicodingacademy.blob.core.windows.net (dicodingacademy.blob.core.windows.net)... 52.239.197.36\n",
            "Connecting to dicodingacademy.blob.core.windows.net (dicodingacademy.blob.core.windows.net)|52.239.197.36|:443... connected.\n",
            "HTTP request sent, awaiting response... 200 OK\n",
            "Length: 322873683 (308M) [application/zip]\n",
            "Saving to: ‘rockpaperscissors.zip’\n",
            "\n",
            "rockpaperscissors.z 100%[===================>] 307.92M  8.55MB/s    in 41s     \n",
            "\n",
            "2020-10-07 16:20:44 (7.57 MB/s) - ‘rockpaperscissors.zip’ saved [322873683/322873683]\n",
            "\n"
          ],
          "name": "stdout"
        }
      ]
    },
    {
      "cell_type": "markdown",
      "metadata": {
        "id": "GnB-5A2tKbsj"
      },
      "source": [
        "**Unzip / Ekstrak Dataset**"
      ]
    },
    {
      "cell_type": "code",
      "metadata": {
        "id": "P_pw9HiSKaZ8"
      },
      "source": [
        "# Ekstrak file tipe zip\n",
        "ekstrak_zip = 'rockpaperscissors.zip'\n",
        "out_zip = zipfile.ZipFile(ekstrak_zip, 'r')\n",
        "out_zip.extractall('/dataset')\n",
        "out_zip.close()"
      ],
      "execution_count": null,
      "outputs": []
    },
    {
      "cell_type": "markdown",
      "metadata": {
        "id": "YYo8wrJGtBFR"
      },
      "source": [
        "**Atur Lokasi Dataset RockPaperScissors**"
      ]
    },
    {
      "cell_type": "code",
      "metadata": {
        "id": "DmrQl_v7w-U6"
      },
      "source": [
        "# Mengatur Lokasi dataset yang akan digunakan\n",
        "dir_dataset = \"/dataset/rockpaperscissors/rps-cv-images\"\n",
        "dir_paper = os.path.join(\"/dataset/rockpaperscissors/rps-cv-images/paper\")\n",
        "dir_rock = os.path.join(\"/dataset/rockpaperscissors/rps-cv-images/rock\")\n",
        "dir_scissors = os.path.join(\"/dataset/rockpaperscissors/rps-cv-images/scissors\")"
      ],
      "execution_count": null,
      "outputs": []
    },
    {
      "cell_type": "code",
      "metadata": {
        "id": "tJLTUbFTx7LC",
        "colab": {
          "base_uri": "https://localhost:8080/"
        },
        "outputId": "15fd4be3-7f37-41eb-b5af-f57d6e2697c3"
      },
      "source": [
        "# Mengecek jumlah data rock paper scissor\n",
        "total_image = len(list(glob.iglob(\"/dataset/rockpaperscissors/rps-cv-images/*/*.*\", recursive=True)))\n",
        "print(\"Total Data Image JPEG     : \",total_image)\n",
        "\n",
        "total_paper = len(os.listdir(dir_paper))\n",
        "total_rock = len(os.listdir(dir_rock))\n",
        "total_scissors = len(os.listdir(dir_scissors))\n",
        "\n",
        "# Mencetak jumlah data rock paper scissor\n",
        "print(\"Total Data Paper Image      : \",total_paper)\n",
        "print(\"Total Data Rock Image       : \",total_rock)\n",
        "print(\"Total Data Scissors Image  : \",total_scissors)"
      ],
      "execution_count": null,
      "outputs": [
        {
          "output_type": "stream",
          "text": [
            "Total Data Image JPEG     :  2188\n",
            "Total Data Paper Image      :  712\n",
            "Total Data Rock Image       :  726\n",
            "Total Data Scissors Image  :  750\n"
          ],
          "name": "stdout"
        }
      ]
    },
    {
      "cell_type": "markdown",
      "metadata": {
        "id": "X1unL1W91NUf"
      },
      "source": [
        "**Implementasi Image Data Generator Tensorflow untuk pengolahan gambar**"
      ]
    },
    {
      "cell_type": "code",
      "metadata": {
        "id": "5zk80vVd1M9d"
      },
      "source": [
        "# Pembuatan Train dan Validation  data generator \n",
        "# Untuk augmentasi gambar\n",
        "\n",
        "#Ukuran validation 20% dari dataset\n",
        "val_size = 0.2\n",
        "\n",
        "Train_datagen = ImageDataGenerator(\n",
        "    rotation_range = 30,\n",
        "    brightness_range = [0.2,1.0],\n",
        "    shear_range = 0.2,\n",
        "    zoom_range = 0.2,\n",
        "    horizontal_flip = True,\n",
        "    fill_mode = \"nearest\",\n",
        "    rescale = 1./255,\n",
        "    validation_split = val_size\n",
        ")\n",
        "\n",
        "Validation_datagen = ImageDataGenerator(\n",
        "    rotation_range = 30,\n",
        "    brightness_range = [0.2,1.0],\n",
        "    shear_range = 0.2,\n",
        "    zoom_range = 0.2,\n",
        "    horizontal_flip = True,\n",
        "    fill_mode = \"nearest\",\n",
        "    rescale = 1./255,\n",
        "    validation_split = val_size\n",
        ")"
      ],
      "execution_count": null,
      "outputs": []
    },
    {
      "cell_type": "markdown",
      "metadata": {
        "id": "auwMKpF2L8el"
      },
      "source": [
        "**Split Dataset -> Train dan Validation | Ukuran Validasi 20 %**"
      ]
    },
    {
      "cell_type": "code",
      "metadata": {
        "id": "8Fas1rK7L7vz",
        "colab": {
          "base_uri": "https://localhost:8080/"
        },
        "outputId": "58fcfca1-dc1e-4a2c-8fa6-8d9028ff6dda"
      },
      "source": [
        "# Mengatur lebar dan tinggi gambar\n",
        "img_width = 150\n",
        "img_height = 150\n",
        "\n",
        "# Train dan Validation generator  dengan mode categorical\n",
        "Train_generator = Train_datagen.flow_from_directory(\n",
        "    dir_dataset,\n",
        "    target_size = (img_width,img_height),\n",
        "    color_mode = \"rgb\",\n",
        "    class_mode = \"categorical\",\n",
        "    batch_size = 16,\n",
        "    shuffle = True,\n",
        "    subset = \"training\"\n",
        ")\n",
        "\n",
        "Validation_generator = Validation_datagen.flow_from_directory(\n",
        "    dir_dataset,\n",
        "    target_size = (img_width,img_height),\n",
        "    color_mode = \"rgb\",\n",
        "    class_mode = \"categorical\",\n",
        "    batch_size = 16,\n",
        "    shuffle = False,\n",
        "    subset = \"validation\"\n",
        ")"
      ],
      "execution_count": null,
      "outputs": [
        {
          "output_type": "stream",
          "text": [
            "Found 1751 images belonging to 3 classes.\n",
            "Found 437 images belonging to 3 classes.\n"
          ],
          "name": "stdout"
        }
      ]
    },
    {
      "cell_type": "markdown",
      "metadata": {
        "id": "Y9Ey7EE7-SzD"
      },
      "source": [
        "**Model Sequential + Conv2D + Dropout Regularization**"
      ]
    },
    {
      "cell_type": "code",
      "metadata": {
        "id": "t5ly6Npk-R1A"
      },
      "source": [
        "# Pembuatan Model dengan tipe Sequential\n",
        "\n",
        "Model = Sequential(\n",
        "    [\n",
        "     # Activation menggunakan relu + softmax\n",
        "     Conv2D(32, (3,3), strides = (1,1), activation = 'relu' , input_shape = (img_width,img_height,3)),\n",
        "     MaxPooling2D(pool_size = (2,2), padding = 'valid'),\n",
        "     Conv2D(64, (3,3), strides = (1,1), activation = 'relu' ),\n",
        "     MaxPooling2D(pool_size = (2,2), padding = 'valid'),\n",
        "     Conv2D(128, (3,3), strides = (1,1), activation = 'relu' ),\n",
        "     MaxPooling2D(pool_size = (2,2), padding = 'valid'),\n",
        "     Flatten(),\n",
        "\n",
        "     # Droupout\n",
        "     Dropout(0.2),\n",
        "     \n",
        "     Dense(128, activation = 'relu'),\n",
        "     Dense(3, activation='softmax')\n",
        "    ]\n",
        ")"
      ],
      "execution_count": null,
      "outputs": []
    },
    {
      "cell_type": "markdown",
      "metadata": {
        "id": "hGbSAIMGE5pL"
      },
      "source": [
        "**Model Compile menggunakan Optimizer**"
      ]
    },
    {
      "cell_type": "code",
      "metadata": {
        "id": "yx-mGkapP4Gr"
      },
      "source": [
        "# Penggunaan Optimizer 'Adam' dengan learning rate 0.00146\n",
        "Adam(learning_rate=0.00146, name='Adam')\n",
        "Model.compile(optimizer = 'Adam',loss = 'categorical_crossentropy',metrics = ['accuracy'])"
      ],
      "execution_count": null,
      "outputs": []
    },
    {
      "cell_type": "markdown",
      "metadata": {
        "id": "jgFmSwnc548f"
      },
      "source": [
        "**Penggunaan Learning Rate Schedule dan Callbacks**"
      ]
    },
    {
      "cell_type": "code",
      "metadata": {
        "id": "ujFXy7l_4aFQ",
        "colab": {
          "base_uri": "https://localhost:8080/"
        },
        "outputId": "e7ca594f-f723-4c3e-e05d-408f134d207d"
      },
      "source": [
        "def scheduler(epoch, lr):\n",
        "  if epoch < 5:\n",
        "    return lr\n",
        "  else:\n",
        "    return lr * tf.math.exp(-0.1)\n",
        "\n",
        "lr_schedule = tf.keras.callbacks.LearningRateScheduler(scheduler, verbose=1)\n",
        "tb_callback = tf.keras.callbacks.TensorBoard(\n",
        "    log_dir='logs', histogram_freq=0, write_graph=True, write_images=False,\n",
        "    update_freq='epoch', embeddings_freq=0,\n",
        "    embeddings_metadata=None\n",
        ")\n",
        "\n",
        "Model.summary()"
      ],
      "execution_count": null,
      "outputs": [
        {
          "output_type": "stream",
          "text": [
            "Model: \"sequential_1\"\n",
            "_________________________________________________________________\n",
            "Layer (type)                 Output Shape              Param #   \n",
            "=================================================================\n",
            "conv2d_3 (Conv2D)            (None, 148, 148, 32)      896       \n",
            "_________________________________________________________________\n",
            "max_pooling2d_3 (MaxPooling2 (None, 74, 74, 32)        0         \n",
            "_________________________________________________________________\n",
            "conv2d_4 (Conv2D)            (None, 72, 72, 64)        18496     \n",
            "_________________________________________________________________\n",
            "max_pooling2d_4 (MaxPooling2 (None, 36, 36, 64)        0         \n",
            "_________________________________________________________________\n",
            "conv2d_5 (Conv2D)            (None, 34, 34, 128)       73856     \n",
            "_________________________________________________________________\n",
            "max_pooling2d_5 (MaxPooling2 (None, 17, 17, 128)       0         \n",
            "_________________________________________________________________\n",
            "flatten_1 (Flatten)          (None, 36992)             0         \n",
            "_________________________________________________________________\n",
            "dropout_1 (Dropout)          (None, 36992)             0         \n",
            "_________________________________________________________________\n",
            "dense_2 (Dense)              (None, 128)               4735104   \n",
            "_________________________________________________________________\n",
            "dense_3 (Dense)              (None, 3)                 387       \n",
            "=================================================================\n",
            "Total params: 4,828,739\n",
            "Trainable params: 4,828,739\n",
            "Non-trainable params: 0\n",
            "_________________________________________________________________\n"
          ],
          "name": "stdout"
        }
      ]
    },
    {
      "cell_type": "markdown",
      "metadata": {
        "id": "U7DcZCSeTanm"
      },
      "source": [
        "**Proses Training Dataset Fit**"
      ]
    },
    {
      "cell_type": "code",
      "metadata": {
        "id": "5W55NiKroe-5",
        "colab": {
          "base_uri": "https://localhost:8080/"
        },
        "outputId": "0e7c7a55-baa1-4125-b66b-cce2f28ead9b"
      },
      "source": [
        "# Proses Training \n",
        "batch_size = 16\n",
        "\n",
        "with tf.device(\"/device:GPU:0\"):\n",
        "  history = Model.fit(Train_generator, \n",
        "                    epochs =  10, \n",
        "                    steps_per_epoch = 1751//batch_size, \n",
        "                    validation_data = Validation_generator, \n",
        "                    verbose = 1, \n",
        "                    validation_steps = 437//batch_size,\n",
        "                    callbacks =[lr_schedule, tb_callback])"
      ],
      "execution_count": null,
      "outputs": [
        {
          "output_type": "stream",
          "text": [
            "\n",
            "Epoch 00001: LearningRateScheduler reducing learning rate to 0.0010000000474974513.\n",
            "Epoch 1/10\n",
            "109/109 [==============================] - 88s 808ms/step - loss: 0.9728 - accuracy: 0.5003 - val_loss: 0.7395 - val_accuracy: 0.6898\n",
            "\n",
            "Epoch 00002: LearningRateScheduler reducing learning rate to 0.0010000000474974513.\n",
            "Epoch 2/10\n",
            "109/109 [==============================] - 93s 849ms/step - loss: 0.3815 - accuracy: 0.8749 - val_loss: 0.4581 - val_accuracy: 0.8333\n",
            "\n",
            "Epoch 00003: LearningRateScheduler reducing learning rate to 0.0010000000474974513.\n",
            "Epoch 3/10\n",
            "109/109 [==============================] - 88s 809ms/step - loss: 0.2908 - accuracy: 0.9037 - val_loss: 0.2243 - val_accuracy: 0.9421\n",
            "\n",
            "Epoch 00004: LearningRateScheduler reducing learning rate to 0.0010000000474974513.\n",
            "Epoch 4/10\n",
            "109/109 [==============================] - 88s 812ms/step - loss: 0.1639 - accuracy: 0.9476 - val_loss: 0.1119 - val_accuracy: 0.9606\n",
            "\n",
            "Epoch 00005: LearningRateScheduler reducing learning rate to 0.0010000000474974513.\n",
            "Epoch 5/10\n",
            "109/109 [==============================] - 88s 805ms/step - loss: 0.1130 - accuracy: 0.9631 - val_loss: 0.1260 - val_accuracy: 0.9560\n",
            "\n",
            "Epoch 00006: LearningRateScheduler reducing learning rate to tf.Tensor(0.00090483745, shape=(), dtype=float32).\n",
            "Epoch 6/10\n",
            "109/109 [==============================] - 88s 806ms/step - loss: 0.1006 - accuracy: 0.9700 - val_loss: 0.1492 - val_accuracy: 0.9514\n",
            "\n",
            "Epoch 00007: LearningRateScheduler reducing learning rate to tf.Tensor(0.0008187308, shape=(), dtype=float32).\n",
            "Epoch 7/10\n",
            "109/109 [==============================] - 88s 807ms/step - loss: 0.1126 - accuracy: 0.9614 - val_loss: 0.1365 - val_accuracy: 0.9560\n",
            "\n",
            "Epoch 00008: LearningRateScheduler reducing learning rate to tf.Tensor(0.0007408183, shape=(), dtype=float32).\n",
            "Epoch 8/10\n",
            "109/109 [==============================] - 88s 811ms/step - loss: 0.1061 - accuracy: 0.9671 - val_loss: 0.0971 - val_accuracy: 0.9653\n",
            "\n",
            "Epoch 00009: LearningRateScheduler reducing learning rate to tf.Tensor(0.0006703201, shape=(), dtype=float32).\n",
            "Epoch 9/10\n",
            "109/109 [==============================] - 92s 840ms/step - loss: 0.0845 - accuracy: 0.9758 - val_loss: 0.0877 - val_accuracy: 0.9676\n",
            "\n",
            "Epoch 00010: LearningRateScheduler reducing learning rate to tf.Tensor(0.00060653075, shape=(), dtype=float32).\n",
            "Epoch 10/10\n",
            "109/109 [==============================] - 88s 807ms/step - loss: 0.0801 - accuracy: 0.9764 - val_loss: 0.0697 - val_accuracy: 0.9745\n"
          ],
          "name": "stdout"
        }
      ]
    },
    {
      "cell_type": "markdown",
      "metadata": {
        "id": "C40-YcHgP3YK"
      },
      "source": [
        "**Plot Accuracy dan Loss**"
      ]
    },
    {
      "cell_type": "code",
      "metadata": {
        "id": "VF0Hv5Zj5RIN",
        "colab": {
          "base_uri": "https://localhost:8080/",
          "height": 581
        },
        "outputId": "bd35d929-e92a-4b53-bc6e-e7dad2d1d653"
      },
      "source": [
        "# Mengambil Nilai Accuracy \n",
        "acc = history.history['accuracy']\n",
        "val_acc = history.history['val_accuracy']\n",
        "# Mengambil Nilai Loss \n",
        "loss = history.history['loss']\n",
        "val_loss = history.history['val_loss']\n",
        "\n",
        "epochs = range(len(acc))\n",
        "\n",
        "# Plot Accruracy\n",
        "plt.plot(epochs, acc, 'r', label='Train accuracy')\n",
        "plt.plot(epochs, val_acc, 'g', label='Validation accuracy')\n",
        "plt.title('Training and validation accuracy')\n",
        "plt.legend(loc=0)\n",
        "plt.figure()\n",
        "plt.show()\n",
        "\n",
        "# Plot Loss\n",
        "plt.plot(epochs, loss, 'r', label='Train loss')\n",
        "plt.plot(epochs, val_loss, 'g', label='Validation loss')\n",
        "plt.title('Training and validation loss')\n",
        "plt.legend(loc=0)\n",
        "plt.figure()\n",
        "plt.show()"
      ],
      "execution_count": null,
      "outputs": [
        {
          "output_type": "display_data",
          "data": {
            "image/png": "[encoded data removed]",
            "text/plain": [
              "<Figure size 432x288 with 1 Axes>"
            ]
          },
          "metadata": {
            "tags": [],
            "needs_background": "light"
          }
        },
        {
          "output_type": "display_data",
          "data": {
            "text/plain": [
              "<Figure size 432x288 with 0 Axes>"
            ]
          },
          "metadata": {
            "tags": []
          }
        },
        {
          "output_type": "display_data",
          "data": {
            "image/png": "[encoded data removed]",
            "text/plain": [
              "<Figure size 432x288 with 1 Axes>"
            ]
          },
          "metadata": {
            "tags": [],
            "needs_background": "light"
          }
        },
        {
          "output_type": "display_data",
          "data": {
            "text/plain": [
              "<Figure size 432x288 with 0 Axes>"
            ]
          },
          "metadata": {
            "tags": []
          }
        }
      ]
    },
    {
      "cell_type": "markdown",
      "metadata": {
        "id": "1WPvOzeYCBBJ"
      },
      "source": [
        "**Predict Image**"
      ]
    },
    {
      "cell_type": "code",
      "metadata": {
        "id": "JKGBdpVoAKQi",
        "colab": {
          "resources": {
            "http://localhost:8080/nbextensions/google.colab/files.js": {
              "data": "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",
              "ok": true,
              "headers": [
                [
                  "content-type",
                  "application/javascript"
                ]
              ],
              "status": 200,
              "status_text": ""
            }
          },
          "base_uri": "https://localhost:8080/",
          "height": 415
        },
        "outputId": "01798f1a-fcc7-4367-dda2-d4d2e855323e"
      },
      "source": [
        "# Upload File ke google colabs\n",
        "uploaded = files.upload()\n",
        "\n",
        "# pengkondisian\n",
        "for file_upload in uploaded.keys():\n",
        "\n",
        "  path = file_upload\n",
        "  img = image.load_img(path, target_size=(150,150))\n",
        "  imgplot = plt.imshow(img)\n",
        "  x = image.img_to_array(img)\n",
        "  x = np.expand_dims(x, axis=0)\n",
        "\n",
        "  # Membuat numpy vstack array untuk hasil prediksi \n",
        "  images = np.vstack([x])\n",
        "  classes = Model.predict(images, batch_size=16)\n",
        "  \n",
        "  print(\"\\n\")\n",
        "  print('Hasil Prediksi : ',classes[0],'\\n')\n",
        "\n",
        "  if classes[0][0] == 1:\n",
        "    print('Kategori Gambar : Paper')\n",
        "  elif classes[0][1] == 1:\n",
        "    print('Kategori Gambar : Rock')\n",
        "  else:\n",
        "    print('Kategori Gambar : Scissor')"
      ],
      "execution_count": null,
      "outputs": [
        {
          "output_type": "display_data",
          "data": {
            "text/html": [
              "\n",
              "     <input type=\"file\" id=\"files-56a862ec-641f-4771-af08-8bf0b389ed5f\" name=\"files[]\" multiple disabled\n",
              "        style=\"border:none\" />\n",
              "     <output id=\"result-56a862ec-641f-4771-af08-8bf0b389ed5f\">\n",
              "      Upload widget is only available when the cell has been executed in the\n",
              "      current browser session. Please rerun this cell to enable.\n",
              "      </output>\n",
              "      <script src=\"/nbextensions/google.colab/files.js\"></script> "
            ],
            "text/plain": [
              "<IPython.core.display.HTML object>"
            ]
          },
          "metadata": {
            "tags": []
          }
        },
        {
          "output_type": "stream",
          "text": [
            "Saving TzhAea8QXqJwqpUY.png to TzhAea8QXqJwqpUY.png\n",
            "\n",
            "\n",
            "Hasil Prediksi :  [1. 0. 0.] \n",
            "\n",
            "Kategori Gambar : Paper\n"
          ],
          "name": "stdout"
        },
        {
          "output_type": "display_data",
          "data": {
            "image/png": "[encoded data removed]",
            "text/plain": [
              "<Figure size 432x288 with 1 Axes>"
            ]
          },
          "metadata": {
            "tags": [],
            "needs_background": "light"
          }
        }
      ]
    },
    {
      "cell_type": "markdown",
      "metadata": {
        "id": "7dtFyPk5CgL-"
      },
      "source": [
        "Export Tflite"
      ]
    },
    {
      "cell_type": "code",
      "metadata": {
        "id": "A14VJn0M7aV6",
        "colab": {
          "base_uri": "https://localhost:8080/"
        },
        "outputId": "f55b213d-0c8a-4a74-bbb3-aa6959c8de8e"
      },
      "source": [
        "# Menghilangkan Warning\n",
        "warnings.filterwarnings('ignore')\n",
        "\n",
        "# Convert Model.\n",
        "converter = tf.lite.TFLiteConverter.from_keras_model(Model)\n",
        "tflite_model = converter.convert()\n",
        "\n",
        "# Save the model.\n",
        "with open('RPS_model.tflite', 'wb') as f:\n",
        "  f.write(tflite_model)"
      ],
      "execution_count": null,
      "outputs": [
        {
          "output_type": "stream",
          "text": [
            "INFO:tensorflow:Assets written to: /tmp/tmpsee_6ag_/assets\n"
          ],
          "name": "stdout"
        },
        {
          "output_type": "stream",
          "text": [
            "INFO:tensorflow:Assets written to: /tmp/tmpsee_6ag_/assets\n"
          ],
          "name": "stderr"
        }
      ]
    }
  ]
}